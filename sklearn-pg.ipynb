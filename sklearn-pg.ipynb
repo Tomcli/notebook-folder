{
 "cells": [
  {
   "cell_type": "code",
   "execution_count": 37,
   "metadata": {},
   "outputs": [
    {
     "name": "stdout",
     "output_type": "stream",
     "text": [
      "Requirement already satisfied: pandas in /anaconda3/lib/python3.6/site-packages (0.24.2)\n",
      "Requirement already satisfied: numpy in /anaconda3/lib/python3.6/site-packages (1.16.4)\n",
      "Requirement already satisfied: sklearn in /anaconda3/lib/python3.6/site-packages (0.0)\n",
      "Requirement already satisfied: matplotlib in /anaconda3/lib/python3.6/site-packages (3.1.0)\n",
      "Requirement already satisfied: Minio in /anaconda3/lib/python3.6/site-packages (4.0.11)\n",
      "Requirement already satisfied: psycopg2 in /anaconda3/lib/python3.6/site-packages (2.7.6.1)\n",
      "Requirement already satisfied: python-dateutil>=2.5.0 in /anaconda3/lib/python3.6/site-packages (from pandas) (2.8.0)\n",
      "Requirement already satisfied: pytz>=2011k in /anaconda3/lib/python3.6/site-packages (from pandas) (2019.1)\n",
      "Requirement already satisfied: scikit-learn in /anaconda3/lib/python3.6/site-packages (from sklearn) (0.21.2)\n",
      "Requirement already satisfied: cycler>=0.10 in /anaconda3/lib/python3.6/site-packages (from matplotlib) (0.10.0)\n",
      "Requirement already satisfied: kiwisolver>=1.0.1 in /anaconda3/lib/python3.6/site-packages (from matplotlib) (1.1.0)\n",
      "Requirement already satisfied: pyparsing!=2.0.4,!=2.1.2,!=2.1.6,>=2.0.1 in /anaconda3/lib/python3.6/site-packages (from matplotlib) (2.4.0)\n",
      "Requirement already satisfied: urllib3 in /anaconda3/lib/python3.6/site-packages (from Minio) (1.24.2)\n",
      "Requirement already satisfied: certifi in /anaconda3/lib/python3.6/site-packages (from Minio) (2019.6.16)\n",
      "Requirement already satisfied: six>=1.5 in /anaconda3/lib/python3.6/site-packages (from python-dateutil>=2.5.0->pandas) (1.12.0)\n",
      "Requirement already satisfied: joblib>=0.11 in /anaconda3/lib/python3.6/site-packages (from scikit-learn->sklearn) (0.13.2)\n",
      "Requirement already satisfied: scipy>=0.17.0 in /anaconda3/lib/python3.6/site-packages (from scikit-learn->sklearn) (1.3.0)\n",
      "Requirement already satisfied: setuptools in /anaconda3/lib/python3.6/site-packages (from kiwisolver>=1.0.1->matplotlib) (41.0.1)\n",
      "\u001b[33mWARNING: You are using pip version 19.2.2, however version 19.2.3 is available.\n",
      "You should consider upgrading via the 'pip install --upgrade pip' command.\u001b[0m\n"
     ]
    }
   ],
   "source": [
    "#Install prerequisite\n",
    "!pip install pandas numpy sklearn matplotlib Minio psycopg2"
   ]
  },
  {
   "cell_type": "code",
   "execution_count": 1,
   "metadata": {},
   "outputs": [],
   "source": [
    "import pandas as pd\n",
    "import pylab as pl\n",
    "import numpy as np\n",
    "import scipy.optimize as opt\n",
    "from urllib.parse import urlparse\n",
    "import psycopg2, os\n",
    "from sklearn import preprocessing\n",
    "%matplotlib inline \n",
    "import matplotlib.pyplot as plt"
   ]
  },
  {
   "cell_type": "code",
   "execution_count": 40,
   "metadata": {},
   "outputs": [],
   "source": [
    "# Define S3 credentials\n",
    "bucket_name = os.getenv('BUCKET_NAME', 'training-data')\n",
    "cert_path = os.getenv('CERT_PATH', 'postgres.pem')\n",
    "S3_ENDPOINT = os.getenv('S3_ENDPOINT', 'minio-service.kubeflow:9000')\n",
    "AWS_ACCESS_KEY_ID = os.getenv('AWS_ACCESS_KEY_ID', 'minio')\n",
    "AWS_SECRET_ACCESS_KEY = os.getenv('AWS_SECRET_ACCESS_KEY', 'minio123')\n",
    "\n",
    "# SSL certificates\n",
    "if os.getenv('POSTGRES_SSL', '') == 'true': \n",
    "    sslmode='verify-full'\n",
    "    sslrootcert='postgres.pem'\n",
    "else:\n",
    "    sslmode=None\n",
    "    sslrootcert=None"
   ]
  },
  {
   "cell_type": "code",
   "execution_count": null,
   "metadata": {},
   "outputs": [],
   "source": [
    "# Create S3 client\n",
    "from minio import Minio\n",
    "import re\n",
    "url = re.compile(r\"https?://\")\n",
    "cos = Minio(url.sub('', S3_ENDPOINT),\n",
    "            access_key=AWS_ACCESS_KEY_ID,\n",
    "            secret_key=AWS_SECRET_ACCESS_KEY,\n",
    "            secure=False)\n",
    "\n",
    "# Download CA certs if SSL connection is required\n",
    "if os.getenv('POSTGRES_SSL', '') == 'true':\n",
    "    cos.fget_object(bucket_name, cert_path, 'postgres.pem')"
   ]
  },
  {
   "cell_type": "code",
   "execution_count": 41,
   "metadata": {},
   "outputs": [
    {
     "name": "stdout",
     "output_type": "stream",
     "text": [
      "ParseResult(scheme='postgresql', netloc='postgres:NwVZKF9ZrM@169.45.69.227:30684', path='/postgres', params='', query='', fragment='')\n"
     ]
    }
   ],
   "source": [
    "postgresURL=urlparse(os.getenv('POSTGRES_URL'))\n",
    "print(postgresURL)\n",
    "connection = psycopg2.connect(host=postgresURL.hostname,\n",
    "                        port=postgresURL.port,\n",
    "                        user=postgresURL.username,\n",
    "                        password=postgresURL.password,\n",
    "                        sslmode=sslmode,\n",
    "                        sslrootcert=sslrootcert,\n",
    "                        database=postgresURL.path.replace('/', ''))"
   ]
  },
  {
   "cell_type": "code",
   "execution_count": 42,
   "metadata": {
    "scrolled": true
   },
   "outputs": [
    {
     "data": {
      "text/html": [
       "<div>\n",
       "<style scoped>\n",
       "    .dataframe tbody tr th:only-of-type {\n",
       "        vertical-align: middle;\n",
       "    }\n",
       "\n",
       "    .dataframe tbody tr th {\n",
       "        vertical-align: top;\n",
       "    }\n",
       "\n",
       "    .dataframe thead th {\n",
       "        text-align: right;\n",
       "    }\n",
       "</style>\n",
       "<table border=\"1\" class=\"dataframe\">\n",
       "  <thead>\n",
       "    <tr style=\"text-align: right;\">\n",
       "      <th></th>\n",
       "      <th>measurement_time</th>\n",
       "      <th>temperature</th>\n",
       "      <th>target_temperature</th>\n",
       "      <th>ambiant_temperature</th>\n",
       "      <th>kilowatts</th>\n",
       "      <th>content_type</th>\n",
       "      <th>oxygen_level</th>\n",
       "      <th>nitrogen_level</th>\n",
       "      <th>carbon_dioxide_level</th>\n",
       "      <th>humidity_level</th>\n",
       "      <th>vent_1</th>\n",
       "      <th>vent_2</th>\n",
       "      <th>vent_3</th>\n",
       "      <th>time_door_open</th>\n",
       "      <th>defrost_cycle</th>\n",
       "      <th>maintenance_required</th>\n",
       "    </tr>\n",
       "  </thead>\n",
       "  <tbody>\n",
       "    <tr>\n",
       "      <th>0</th>\n",
       "      <td>2019-10-01 14:51:47.855765</td>\n",
       "      <td>5.49647</td>\n",
       "      <td>6.0</td>\n",
       "      <td>19.8447</td>\n",
       "      <td>3.44686</td>\n",
       "      <td>2</td>\n",
       "      <td>20.4543</td>\n",
       "      <td>79.4046</td>\n",
       "      <td>4.42579</td>\n",
       "      <td>60.3148</td>\n",
       "      <td>True</td>\n",
       "      <td>True</td>\n",
       "      <td>True</td>\n",
       "      <td>0.822024</td>\n",
       "      <td>6</td>\n",
       "      <td>0</td>\n",
       "    </tr>\n",
       "    <tr>\n",
       "      <th>1</th>\n",
       "      <td>2019-10-01 14:56:47.855765</td>\n",
       "      <td>5.07723</td>\n",
       "      <td>6.0</td>\n",
       "      <td>19.4884</td>\n",
       "      <td>3.23174</td>\n",
       "      <td>2</td>\n",
       "      <td>20.9098</td>\n",
       "      <td>77.6452</td>\n",
       "      <td>3.16873</td>\n",
       "      <td>60.5367</td>\n",
       "      <td>True</td>\n",
       "      <td>True</td>\n",
       "      <td>True</td>\n",
       "      <td>-0.334360</td>\n",
       "      <td>5</td>\n",
       "      <td>0</td>\n",
       "    </tr>\n",
       "    <tr>\n",
       "      <th>2</th>\n",
       "      <td>2019-10-01 15:01:47.855765</td>\n",
       "      <td>5.87840</td>\n",
       "      <td>6.0</td>\n",
       "      <td>19.8751</td>\n",
       "      <td>2.20399</td>\n",
       "      <td>2</td>\n",
       "      <td>22.4998</td>\n",
       "      <td>79.5565</td>\n",
       "      <td>4.99290</td>\n",
       "      <td>58.8380</td>\n",
       "      <td>True</td>\n",
       "      <td>True</td>\n",
       "      <td>True</td>\n",
       "      <td>1.494130</td>\n",
       "      <td>4</td>\n",
       "      <td>0</td>\n",
       "    </tr>\n",
       "    <tr>\n",
       "      <th>3</th>\n",
       "      <td>2019-10-01 15:06:47.855765</td>\n",
       "      <td>4.64850</td>\n",
       "      <td>6.0</td>\n",
       "      <td>20.8985</td>\n",
       "      <td>2.23505</td>\n",
       "      <td>2</td>\n",
       "      <td>22.0914</td>\n",
       "      <td>77.8230</td>\n",
       "      <td>5.25538</td>\n",
       "      <td>58.5273</td>\n",
       "      <td>True</td>\n",
       "      <td>True</td>\n",
       "      <td>True</td>\n",
       "      <td>1.515400</td>\n",
       "      <td>5</td>\n",
       "      <td>0</td>\n",
       "    </tr>\n",
       "    <tr>\n",
       "      <th>4</th>\n",
       "      <td>2019-10-01 15:11:47.855765</td>\n",
       "      <td>8.03803</td>\n",
       "      <td>6.0</td>\n",
       "      <td>18.1844</td>\n",
       "      <td>4.04437</td>\n",
       "      <td>2</td>\n",
       "      <td>20.7208</td>\n",
       "      <td>76.4794</td>\n",
       "      <td>4.22356</td>\n",
       "      <td>59.1736</td>\n",
       "      <td>True</td>\n",
       "      <td>True</td>\n",
       "      <td>True</td>\n",
       "      <td>0.795851</td>\n",
       "      <td>6</td>\n",
       "      <td>0</td>\n",
       "    </tr>\n",
       "  </tbody>\n",
       "</table>\n",
       "</div>"
      ],
      "text/plain": [
       "            measurement_time  temperature  target_temperature  \\\n",
       "0 2019-10-01 14:51:47.855765      5.49647                 6.0   \n",
       "1 2019-10-01 14:56:47.855765      5.07723                 6.0   \n",
       "2 2019-10-01 15:01:47.855765      5.87840                 6.0   \n",
       "3 2019-10-01 15:06:47.855765      4.64850                 6.0   \n",
       "4 2019-10-01 15:11:47.855765      8.03803                 6.0   \n",
       "\n",
       "   ambiant_temperature  kilowatts  content_type  oxygen_level  nitrogen_level  \\\n",
       "0              19.8447    3.44686             2       20.4543         79.4046   \n",
       "1              19.4884    3.23174             2       20.9098         77.6452   \n",
       "2              19.8751    2.20399             2       22.4998         79.5565   \n",
       "3              20.8985    2.23505             2       22.0914         77.8230   \n",
       "4              18.1844    4.04437             2       20.7208         76.4794   \n",
       "\n",
       "   carbon_dioxide_level  humidity_level  vent_1  vent_2  vent_3  \\\n",
       "0               4.42579         60.3148    True    True    True   \n",
       "1               3.16873         60.5367    True    True    True   \n",
       "2               4.99290         58.8380    True    True    True   \n",
       "3               5.25538         58.5273    True    True    True   \n",
       "4               4.22356         59.1736    True    True    True   \n",
       "\n",
       "   time_door_open  defrost_cycle  maintenance_required  \n",
       "0        0.822024              6                     0  \n",
       "1       -0.334360              5                     0  \n",
       "2        1.494130              4                     0  \n",
       "3        1.515400              5                     0  \n",
       "4        0.795851              6                     0  "
      ]
     },
     "execution_count": 42,
     "metadata": {},
     "output_type": "execute_result"
    }
   ],
   "source": [
    "# Importing dataset - the generated simulator data\n",
    "data = pd.read_sql_query('''SELECT measurement_time, temperature, target_temperature, ambiant_temperature, kilowatts, content_type, oxygen_level,nitrogen_level, carbon_dioxide_level, humidity_level, vent_1, vent_2, vent_3, time_door_open, defrost_cycle, maintenance_required  FROM reefer_telemetries;''',connection)\n",
    "data.head()"
   ]
  },
  {
   "cell_type": "code",
   "execution_count": 5,
   "metadata": {},
   "outputs": [
    {
     "data": {
      "text/html": [
       "<div>\n",
       "<style scoped>\n",
       "    .dataframe tbody tr th:only-of-type {\n",
       "        vertical-align: middle;\n",
       "    }\n",
       "\n",
       "    .dataframe tbody tr th {\n",
       "        vertical-align: top;\n",
       "    }\n",
       "\n",
       "    .dataframe thead th {\n",
       "        text-align: right;\n",
       "    }\n",
       "</style>\n",
       "<table border=\"1\" class=\"dataframe\">\n",
       "  <thead>\n",
       "    <tr style=\"text-align: right;\">\n",
       "      <th></th>\n",
       "      <th>measurement_time</th>\n",
       "      <th>temperature</th>\n",
       "      <th>target_temperature</th>\n",
       "      <th>ambiant_temperature</th>\n",
       "      <th>kilowatts</th>\n",
       "      <th>content_type</th>\n",
       "      <th>oxygen_level</th>\n",
       "      <th>nitrogen_level</th>\n",
       "      <th>carbon_dioxide_level</th>\n",
       "      <th>humidity_level</th>\n",
       "      <th>vent_1</th>\n",
       "      <th>vent_2</th>\n",
       "      <th>vent_3</th>\n",
       "      <th>time_door_open</th>\n",
       "      <th>defrost_cycle</th>\n",
       "      <th>maintenance_required</th>\n",
       "    </tr>\n",
       "  </thead>\n",
       "  <tbody>\n",
       "    <tr>\n",
       "      <th>0</th>\n",
       "      <td>2019-10-01 14:51:47.855765</td>\n",
       "      <td>5.49647</td>\n",
       "      <td>6.0</td>\n",
       "      <td>19.8447</td>\n",
       "      <td>3.44686</td>\n",
       "      <td>2</td>\n",
       "      <td>20.4543</td>\n",
       "      <td>79.4046</td>\n",
       "      <td>4.42579</td>\n",
       "      <td>60.3148</td>\n",
       "      <td>True</td>\n",
       "      <td>True</td>\n",
       "      <td>True</td>\n",
       "      <td>0.822024</td>\n",
       "      <td>6</td>\n",
       "      <td>0</td>\n",
       "    </tr>\n",
       "    <tr>\n",
       "      <th>1</th>\n",
       "      <td>2019-10-01 14:56:47.855765</td>\n",
       "      <td>5.07723</td>\n",
       "      <td>6.0</td>\n",
       "      <td>19.4884</td>\n",
       "      <td>3.23174</td>\n",
       "      <td>2</td>\n",
       "      <td>20.9098</td>\n",
       "      <td>77.6452</td>\n",
       "      <td>3.16873</td>\n",
       "      <td>60.5367</td>\n",
       "      <td>True</td>\n",
       "      <td>True</td>\n",
       "      <td>True</td>\n",
       "      <td>-0.334360</td>\n",
       "      <td>5</td>\n",
       "      <td>0</td>\n",
       "    </tr>\n",
       "    <tr>\n",
       "      <th>2</th>\n",
       "      <td>2019-10-01 15:01:47.855765</td>\n",
       "      <td>5.87840</td>\n",
       "      <td>6.0</td>\n",
       "      <td>19.8751</td>\n",
       "      <td>2.20399</td>\n",
       "      <td>2</td>\n",
       "      <td>22.4998</td>\n",
       "      <td>79.5565</td>\n",
       "      <td>4.99290</td>\n",
       "      <td>58.8380</td>\n",
       "      <td>True</td>\n",
       "      <td>True</td>\n",
       "      <td>True</td>\n",
       "      <td>1.494130</td>\n",
       "      <td>4</td>\n",
       "      <td>0</td>\n",
       "    </tr>\n",
       "    <tr>\n",
       "      <th>3</th>\n",
       "      <td>2019-10-01 15:06:47.855765</td>\n",
       "      <td>4.64850</td>\n",
       "      <td>6.0</td>\n",
       "      <td>20.8985</td>\n",
       "      <td>2.23505</td>\n",
       "      <td>2</td>\n",
       "      <td>22.0914</td>\n",
       "      <td>77.8230</td>\n",
       "      <td>5.25538</td>\n",
       "      <td>58.5273</td>\n",
       "      <td>True</td>\n",
       "      <td>True</td>\n",
       "      <td>True</td>\n",
       "      <td>1.515400</td>\n",
       "      <td>5</td>\n",
       "      <td>0</td>\n",
       "    </tr>\n",
       "    <tr>\n",
       "      <th>4</th>\n",
       "      <td>2019-10-01 15:11:47.855765</td>\n",
       "      <td>8.03803</td>\n",
       "      <td>6.0</td>\n",
       "      <td>18.1844</td>\n",
       "      <td>4.04437</td>\n",
       "      <td>2</td>\n",
       "      <td>20.7208</td>\n",
       "      <td>76.4794</td>\n",
       "      <td>4.22356</td>\n",
       "      <td>59.1736</td>\n",
       "      <td>True</td>\n",
       "      <td>True</td>\n",
       "      <td>True</td>\n",
       "      <td>0.795851</td>\n",
       "      <td>6</td>\n",
       "      <td>0</td>\n",
       "    </tr>\n",
       "  </tbody>\n",
       "</table>\n",
       "</div>"
      ],
      "text/plain": [
       "            measurement_time  temperature  target_temperature  \\\n",
       "0 2019-10-01 14:51:47.855765      5.49647                 6.0   \n",
       "1 2019-10-01 14:56:47.855765      5.07723                 6.0   \n",
       "2 2019-10-01 15:01:47.855765      5.87840                 6.0   \n",
       "3 2019-10-01 15:06:47.855765      4.64850                 6.0   \n",
       "4 2019-10-01 15:11:47.855765      8.03803                 6.0   \n",
       "\n",
       "   ambiant_temperature  kilowatts  content_type  oxygen_level  nitrogen_level  \\\n",
       "0              19.8447    3.44686             2       20.4543         79.4046   \n",
       "1              19.4884    3.23174             2       20.9098         77.6452   \n",
       "2              19.8751    2.20399             2       22.4998         79.5565   \n",
       "3              20.8985    2.23505             2       22.0914         77.8230   \n",
       "4              18.1844    4.04437             2       20.7208         76.4794   \n",
       "\n",
       "   carbon_dioxide_level  humidity_level  vent_1  vent_2  vent_3  \\\n",
       "0               4.42579         60.3148    True    True    True   \n",
       "1               3.16873         60.5367    True    True    True   \n",
       "2               4.99290         58.8380    True    True    True   \n",
       "3               5.25538         58.5273    True    True    True   \n",
       "4               4.22356         59.1736    True    True    True   \n",
       "\n",
       "   time_door_open  defrost_cycle  maintenance_required  \n",
       "0        0.822024              6                     0  \n",
       "1       -0.334360              5                     0  \n",
       "2        1.494130              4                     0  \n",
       "3        1.515400              5                     0  \n",
       "4        0.795851              6                     0  "
      ]
     },
     "execution_count": 5,
     "metadata": {},
     "output_type": "execute_result"
    }
   ],
   "source": [
    "# Clean bad rows\n",
    "data=data.dropna()\n",
    "data.head()"
   ]
  },
  {
   "cell_type": "code",
   "execution_count": 6,
   "metadata": {},
   "outputs": [
    {
     "data": {
      "text/plain": [
       "array([[5.49647, 6.0, 19.8447, 20.4543, 4.42579, 60.3148, 79.4046, True,\n",
       "        True, True, 3.44686, 2, 0.822024, 6],\n",
       "       [5.07723, 6.0, 19.4884, 20.9098, 3.16873, 60.5367, 77.6452, True,\n",
       "        True, True, 3.23174, 2, -0.33436, 5],\n",
       "       [5.8784, 6.0, 19.8751, 22.4998, 4.9929, 58.838, 79.5565, True,\n",
       "        True, True, 2.20399, 2, 1.49413, 4],\n",
       "       [4.6485, 6.0, 20.8985, 22.0914, 5.25538, 58.5273, 77.823, True,\n",
       "        True, True, 2.23505, 2, 1.5154, 5],\n",
       "       [8.03803, 6.0, 18.1844, 20.7208, 4.22356, 59.1736, 76.4794, True,\n",
       "        True, True, 4.04437, 2, 0.795851, 6]], dtype=object)"
      ]
     },
     "execution_count": 6,
     "metadata": {},
     "output_type": "execute_result"
    }
   ],
   "source": [
    "# Convert dataset into array for the independent variables (features)\n",
    "X = np.asarray(data[['temperature','target_temperature','ambiant_temperature','oxygen_level','carbon_dioxide_level','humidity_level','nitrogen_level','vent_1','vent_2','vent_3','kilowatts','content_type','time_door_open','defrost_cycle']])\n",
    "X[0:5]"
   ]
  },
  {
   "cell_type": "code",
   "execution_count": 7,
   "metadata": {},
   "outputs": [
    {
     "data": {
      "image/png": "[encoded data removed]",
      "text/plain": [
       "<Figure size 648x432 with 1 Axes>"
      ]
     },
     "metadata": {
      "needs_background": "light"
     },
     "output_type": "display_data"
    }
   ],
   "source": [
    "# Visualize the time series for co2 censor\n",
    "fig,ax = plt.subplots(figsize=(9,6))\n",
    "time_axe = np.arange(0,data['carbon_dioxide_level'].size,1)\n",
    "ax.plot(time_axe,np.asarray(data[['carbon_dioxide_level']]))\n",
    "plt.show()"
   ]
  },
  {
   "cell_type": "code",
   "execution_count": 8,
   "metadata": {},
   "outputs": [
    {
     "data": {
      "text/plain": [
       "array([0, 0, 0, 0, 0])"
      ]
     },
     "execution_count": 8,
     "metadata": {},
     "output_type": "execute_result"
    }
   ],
   "source": [
    "# Convert dataset into array for the dependent (objective) variables\n",
    "y = np.asarray(data['maintenance_required'])\n",
    "y [0:5]"
   ]
  },
  {
   "cell_type": "code",
   "execution_count": 9,
   "metadata": {},
   "outputs": [
    {
     "data": {
      "text/plain": [
       "array([[-0.50110393,  0.        , -0.14773899, -0.1629678 ,  0.1649538 ,\n",
       "         0.29855912,  1.41529895,  0.17281816,  0.17281816,  0.17281816,\n",
       "         0.76298531,  0.        , -0.20228355,  1.37413104],\n",
       "       [-0.92273506,  0.        , -0.50509519,  0.07873942, -0.6404113 ,\n",
       "         0.52288849, -0.37061578,  0.17281816,  0.17281816,  0.17281816,\n",
       "         0.56360643,  0.        , -1.38312527,  0.47970858],\n",
       "       [-0.1169956 ,  0.        , -0.11724887,  0.92245946,  0.52828617,\n",
       "        -1.194409  ,  1.56948813,  0.17281816,  0.17281816,  0.17281816,\n",
       "        -0.38893935,  0.        ,  0.4840376 , -0.41471388],\n",
       "       [-1.35391031,  0.        ,  0.90918485,  0.70574546,  0.69645017,\n",
       "        -1.50851057, -0.19013627,  0.17281816,  0.17281816,  0.17281816,\n",
       "        -0.36015212,  0.        ,  0.50575747,  0.47970858],\n",
       "       [ 2.0549518 ,  0.        , -1.81296072, -0.02155183,  0.03539038,\n",
       "        -0.85513483, -1.55398476,  0.17281816,  0.17281816,  0.17281816,\n",
       "         1.31677332,  0.        , -0.22901012,  1.37413104]])"
      ]
     },
     "execution_count": 9,
     "metadata": {},
     "output_type": "execute_result"
    }
   ],
   "source": [
    "# Normalize/standardize (mean = 0 and standard deviation = 1) \n",
    "# your features before applying machine learning techniques.\n",
    "from sklearn import preprocessing\n",
    "X = preprocessing.StandardScaler().fit(X).transform(X)\n",
    "X[0:5]"
   ]
  },
  {
   "cell_type": "code",
   "execution_count": 10,
   "metadata": {},
   "outputs": [
    {
     "name": "stdout",
     "output_type": "stream",
     "text": [
      "Train set: (2400, 14) (2400,)\n",
      "Test set: (600, 14) (600,)\n"
     ]
    }
   ],
   "source": [
    "## randomly split the dataset into train and test to estimate model accuracy \n",
    "from sklearn.model_selection import train_test_split\n",
    "X_train, X_test, y_train, y_test = train_test_split( X, y, test_size=0.20, random_state=4)\n",
    "print ('Train set:', X_train.shape,  y_train.shape)\n",
    "print ('Test set:', X_test.shape,  y_test.shape)"
   ]
  },
  {
   "cell_type": "code",
   "execution_count": 11,
   "metadata": {},
   "outputs": [
    {
     "data": {
      "text/plain": [
       "LogisticRegression(C=0.01, class_weight=None, dual=False, fit_intercept=True,\n",
       "                   intercept_scaling=1, l1_ratio=None, max_iter=100,\n",
       "                   multi_class='warn', n_jobs=None, penalty='l2',\n",
       "                   random_state=None, solver='liblinear', tol=0.0001, verbose=0,\n",
       "                   warm_start=False)"
      ]
     },
     "execution_count": 11,
     "metadata": {},
     "output_type": "execute_result"
    }
   ],
   "source": [
    "## As we are trying to acheive a binary classification, we use Logistic Regression model\n",
    "from sklearn.linear_model import LogisticRegression\n",
    "from sklearn.metrics import confusion_matrix\n",
    "LR = LogisticRegression(C=0.01, solver='liblinear').fit(X_train,y_train)\n",
    "LR"
   ]
  },
  {
   "cell_type": "code",
   "execution_count": 12,
   "metadata": {},
   "outputs": [
    {
     "data": {
      "text/plain": [
       "array([0, 0, 0, 0, 0, 0, 0, 0, 0, 0, 0, 0, 0, 0, 0, 0, 0, 0, 0, 0, 0, 0,\n",
       "       0, 0, 0, 0, 0, 0, 0, 1, 0, 0, 0, 0, 0, 0, 0, 0, 0, 0, 0, 0, 0, 0,\n",
       "       0, 0, 0, 0, 0, 0, 0, 0, 0, 0, 0, 0, 0, 0, 0, 0, 0, 0, 0, 0, 0, 0,\n",
       "       0, 0, 0, 0, 0, 0, 0, 0, 0, 0, 0, 0, 0, 1, 0, 0, 0, 0, 0, 0, 0, 0,\n",
       "       0, 0, 0, 0, 0, 0, 0, 0, 0, 0, 0, 0, 0, 0, 0, 0, 0, 0, 0, 0, 0, 0,\n",
       "       0, 0, 0, 0, 0, 0, 0, 0, 0, 0, 0, 0, 0, 0, 0, 0, 0, 0, 0, 0, 0, 0,\n",
       "       0, 0, 0, 0, 0, 0, 0, 0, 0, 0, 0, 0, 0, 0, 0, 0, 0, 0, 0, 0, 0, 0,\n",
       "       0, 0, 0, 0, 0, 0, 0, 1, 0, 0, 0, 0, 0, 1, 0, 0, 0, 0, 0, 0, 0, 0,\n",
       "       0, 0, 0, 0, 0, 0, 0, 0, 0, 0, 0, 0, 0, 0, 0, 0, 0, 0, 0, 0, 0, 0,\n",
       "       0, 0, 0, 0, 0, 0, 0, 0, 1, 1, 1, 0, 1, 0, 0, 0, 0, 0, 0, 0, 0, 0,\n",
       "       0, 0, 0, 0, 0, 0, 0, 0, 0, 0, 0, 0, 0, 0, 0, 0, 0, 0, 0, 0, 0, 0,\n",
       "       0, 0, 0, 0, 0, 0, 0, 0, 0, 0, 0, 0, 1, 0, 0, 0, 0, 0, 0, 0, 0, 0,\n",
       "       0, 0, 0, 0, 0, 0, 0, 0, 0, 0, 1, 0, 0, 0, 0, 0, 0, 0, 0, 0, 0, 1,\n",
       "       0, 0, 0, 0, 1, 0, 0, 1, 0, 0, 0, 1, 0, 0, 0, 0, 1, 0, 0, 1, 0, 0,\n",
       "       0, 0, 0, 0, 0, 0, 0, 0, 0, 0, 0, 0, 0, 0, 0, 0, 0, 0, 0, 0, 0, 0,\n",
       "       0, 0, 0, 0, 0, 0, 0, 0, 0, 0, 0, 0, 0, 0, 0, 0, 0, 0, 0, 1, 0, 0,\n",
       "       0, 0, 0, 0, 0, 0, 0, 0, 0, 0, 0, 0, 0, 1, 0, 0, 0, 0, 0, 0, 0, 0,\n",
       "       0, 0, 0, 0, 0, 0, 0, 0, 0, 0, 0, 0, 0, 0, 0, 0, 0, 1, 0, 0, 1, 0,\n",
       "       0, 0, 0, 0, 0, 0, 0, 0, 0, 0, 0, 0, 0, 0, 0, 0, 0, 0, 0, 0, 0, 0,\n",
       "       0, 0, 0, 0, 0, 0, 0, 0, 0, 0, 0, 0, 0, 0, 0, 0, 0, 0, 0, 0, 0, 0,\n",
       "       0, 0, 0, 0, 0, 0, 0, 1, 0, 0, 0, 0, 0, 1, 0, 0, 0, 0, 0, 0, 0, 0,\n",
       "       0, 0, 0, 0, 0, 0, 0, 0, 0, 0, 0, 1, 0, 0, 0, 0, 0, 0, 0, 0, 0, 0,\n",
       "       0, 0, 0, 0, 0, 0, 1, 0, 0, 0, 0, 0, 1, 0, 0, 0, 0, 0, 0, 1, 0, 0,\n",
       "       0, 0, 0, 1, 0, 0, 0, 0, 0, 0, 0, 0, 0, 0, 0, 0, 0, 0, 1, 0, 0, 0,\n",
       "       1, 0, 0, 0, 0, 0, 1, 0, 0, 0, 0, 0, 0, 0, 0, 0, 0, 0, 0, 0, 0, 0,\n",
       "       0, 0, 0, 1, 0, 0, 0, 0, 0, 0, 1, 0, 0, 1, 0, 0, 0, 0, 0, 0, 0, 0,\n",
       "       0, 0, 0, 0, 0, 1, 0, 0, 0, 0, 1, 0, 1, 1, 0, 1, 0, 0, 0, 0, 0, 0,\n",
       "       0, 0, 0, 0, 0, 0])"
      ]
     },
     "execution_count": 12,
     "metadata": {},
     "output_type": "execute_result"
    }
   ],
   "source": [
    "## Predict using the trained LR model\n",
    "predictions = LR.predict(X_test)\n",
    "predictions\n"
   ]
  },
  {
   "cell_type": "code",
   "execution_count": 13,
   "metadata": {},
   "outputs": [
    {
     "data": {
      "text/plain": [
       "0.9966666666666667"
      ]
     },
     "execution_count": 13,
     "metadata": {},
     "output_type": "execute_result"
    }
   ],
   "source": [
    "## the accuracy metric: correct predictions / total number of records\n",
    "score = LR.score(X_test,y_test)\n",
    "score"
   ]
  },
  {
   "cell_type": "code",
   "execution_count": 14,
   "metadata": {},
   "outputs": [
    {
     "data": {
      "text/plain": [
       "array([[0.95273577, 0.04726423],\n",
       "       [0.81328758, 0.18671242],\n",
       "       [0.92197053, 0.07802947],\n",
       "       ...,\n",
       "       [0.96074115, 0.03925885],\n",
       "       [0.83291284, 0.16708716],\n",
       "       [0.73156798, 0.26843202]])"
      ]
     },
     "execution_count": 14,
     "metadata": {},
     "output_type": "execute_result"
    }
   ],
   "source": [
    "yhat_prob = LR.predict_proba(X_test)\n",
    "yhat_prob"
   ]
  },
  {
   "cell_type": "code",
   "execution_count": 15,
   "metadata": {},
   "outputs": [
    {
     "data": {
      "text/plain": [
       "0.9487179487179487"
      ]
     },
     "execution_count": 15,
     "metadata": {},
     "output_type": "execute_result"
    }
   ],
   "source": [
    "from sklearn.metrics import jaccard_score\n",
    "jaccard_score(y_test, predictions)"
   ]
  },
  {
   "cell_type": "code",
   "execution_count": 16,
   "metadata": {},
   "outputs": [],
   "source": [
    "# Plot the confusion matrix to present the true value versus the predicted one per class\n",
    "# \n",
    "from sklearn.metrics import classification_report, confusion_matrix\n",
    "import itertools\n",
    "def plot_confusion_matrix(cm, classes,\n",
    "                          normalize=False,\n",
    "                          title='Confusion matrix',\n",
    "                          cmap=plt.cm.Blues):\n",
    "    \"\"\"\n",
    "    This function prints and plots the confusion matrix.\n",
    "    Normalization can be applied by setting `normalize=True`.\n",
    "    \"\"\"\n",
    "    if normalize:\n",
    "        cm = cm.astype('float') / cm.sum(axis=1)[:, np.newaxis]\n",
    "        print(\"Normalized confusion matrix\")\n",
    "    else:\n",
    "        print('Confusion matrix, without normalization')\n",
    "\n",
    "    print(cm)\n",
    "\n",
    "    plt.imshow(cm, interpolation='nearest', cmap=cmap)\n",
    "    plt.title(title)\n",
    "    plt.colorbar()\n",
    "    tick_marks = np.arange(len(classes))\n",
    "    plt.xticks(tick_marks, classes, rotation=45)\n",
    "    plt.yticks(tick_marks, classes)\n",
    "\n",
    "    fmt = '.2f' if normalize else 'd'\n",
    "    thresh = cm.max() / 2.\n",
    "    for i, j in itertools.product(range(cm.shape[0]), range(cm.shape[1])):\n",
    "        plt.text(j, i, format(cm[i, j], fmt),\n",
    "                 horizontalalignment=\"center\",\n",
    "                 color=\"white\" if cm[i, j] > thresh else \"black\")\n",
    "\n",
    "    plt.tight_layout()\n",
    "    plt.ylabel('Actual label')\n",
    "    plt.xlabel('Predicted label')\n",
    "    print(confusion_matrix(y_test, predictions, labels=[1,0]))"
   ]
  },
  {
   "cell_type": "code",
   "execution_count": 17,
   "metadata": {},
   "outputs": [
    {
     "name": "stdout",
     "output_type": "stream",
     "text": [
      "Confusion matrix, without normalization\n",
      "[[ 37   1]\n",
      " [  1 561]]\n",
      "[[ 37   1]\n",
      " [  1 561]]\n"
     ]
    },
    {
     "data": {
      "image/png": "[encoded data removed]",
      "text/plain": [
       "<Figure size 432x288 with 2 Axes>"
      ]
     },
     "metadata": {
      "needs_background": "light"
     },
     "output_type": "display_data"
    }
   ],
   "source": [
    "# Compute confusion matrix\n",
    "cnf_matrix = confusion_matrix(y_test, predictions, labels=[1,0])\n",
    "np.set_printoptions(precision=2)\n",
    "\n",
    "\n",
    "# Plot non-normalized confusion matrix\n",
    "plt.figure()\n",
    "plot_confusion_matrix(cnf_matrix, classes=['MaintFlag=1','MaintFlag=0'],normalize= False,  title='Confusion matrix')"
   ]
  },
  {
   "cell_type": "code",
   "execution_count": 27,
   "metadata": {},
   "outputs": [
    {
     "name": "stdout",
     "output_type": "stream",
     "text": [
      "              precision    recall  f1-score   support\n",
      "\n",
      "           0       1.00      1.00      1.00       562\n",
      "           1       0.97      0.97      0.97        38\n",
      "\n",
      "    accuracy                           1.00       600\n",
      "   macro avg       0.99      0.99      0.99       600\n",
      "weighted avg       1.00      1.00      1.00       600\n",
      "\n"
     ]
    }
   ],
   "source": [
    "print (classification_report(y_test, predictions))\n"
   ]
  },
  {
   "cell_type": "code",
   "execution_count": 25,
   "metadata": {},
   "outputs": [
    {
     "data": {
      "text/plain": [
       "0.10970816886508289"
      ]
     },
     "execution_count": 25,
     "metadata": {},
     "output_type": "execute_result"
    }
   ],
   "source": [
    "# Compute cross entropy loss for the ground truth and the predicted probability \n",
    "from sklearn.metrics import log_loss\n",
    "log_loss(y_test, yhat_prob)\n"
   ]
  },
  {
   "cell_type": "code",
   "execution_count": 21,
   "metadata": {},
   "outputs": [],
   "source": [
    "import pickle\n",
    "\n",
    "#serializing our model to a file called model_logistic_regression.pkl\n",
    "pickle.dump(LR, open(\"model_logistic_regression.pkl\",\"wb\"))"
   ]
  },
  {
   "cell_type": "code",
   "execution_count": null,
   "metadata": {},
   "outputs": [],
   "source": [
    "# Store model into S3 storage\n",
    "\n",
    "cos.fput_object(bucket_name, 'model_logistic_regression.pkl', 'model_logistic_regression.pkl')"
   ]
  }
 ],
 "metadata": {
  "kernelspec": {
   "display_name": "Python 3",
   "language": "python",
   "name": "python3"
  },
  "language_info": {
   "codemirror_mode": {
    "name": "ipython",
    "version": 3
   },
   "file_extension": ".py",
   "mimetype": "text/x-python",
   "name": "python",
   "nbconvert_exporter": "python",
   "pygments_lexer": "ipython3",
   "version": "3.6.8"
  }
 },
 "nbformat": 4,
 "nbformat_minor": 2
}
